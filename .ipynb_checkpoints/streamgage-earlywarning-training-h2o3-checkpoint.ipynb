{
 "cells": [
  {
   "cell_type": "code",
   "execution_count": 1,
   "id": "b1918fb8",
   "metadata": {},
   "outputs": [],
   "source": [
    "import pandas as pd\n",
    "from datetime import datetime\n",
    "import matplotlib.pyplot as plt\n",
    "import h2o\n",
    "from h2o.automl import H2OAutoML\n",
    "\n",
    "%matplotlib inline"
   ]
  },
  {
   "cell_type": "code",
   "execution_count": 2,
   "id": "e61c9992",
   "metadata": {},
   "outputs": [],
   "source": [
    "# Enter the begin and end dates for the gage and flow data\n",
    "\n",
    "begin_date = '2023-01-01T00:00:00.000-05:00'\n",
    "end_date = '2024-08-12T00:00:00.000-05:00'\n",
    "\n",
    "#01388500 - Pompton River at Route 23, Pompton Plains NJ"
   ]
  },
  {
   "cell_type": "code",
   "execution_count": 41,
   "id": "7f35752c",
   "metadata": {},
   "outputs": [],
   "source": [
    "#Read in raw stream gage data\n",
    "gage = pd.read_csv('https://nwis.waterservices.usgs.gov/nwis/iv/?sites=01388500&parameterCd=00065&startDT='+begin_date+'&endDT='+end_date+'&siteStatus=all&format=rdb', sep='\\t', skiprows=26)\n",
    "gage = gage.iloc[1: , :]"
   ]
  },
  {
   "cell_type": "code",
   "execution_count": 42,
   "id": "4105abd4-1a94-457f-b80c-20dce7163608",
   "metadata": {},
   "outputs": [
    {
     "data": {
      "text/html": [
       "<div>\n",
       "<style scoped>\n",
       "    .dataframe tbody tr th:only-of-type {\n",
       "        vertical-align: middle;\n",
       "    }\n",
       "\n",
       "    .dataframe tbody tr th {\n",
       "        vertical-align: top;\n",
       "    }\n",
       "\n",
       "    .dataframe thead th {\n",
       "        text-align: right;\n",
       "    }\n",
       "</style>\n",
       "<table border=\"1\" class=\"dataframe\">\n",
       "  <thead>\n",
       "    <tr style=\"text-align: right;\">\n",
       "      <th></th>\n",
       "      <th>328674_00065</th>\n",
       "    </tr>\n",
       "    <tr>\n",
       "      <th>datetime</th>\n",
       "      <th></th>\n",
       "    </tr>\n",
       "  </thead>\n",
       "  <tbody>\n",
       "    <tr>\n",
       "      <th>2023-05-16 12:45</th>\n",
       "      <td>7.18</td>\n",
       "    </tr>\n",
       "    <tr>\n",
       "      <th>2023-05-16 13:15</th>\n",
       "      <td>7.18</td>\n",
       "    </tr>\n",
       "    <tr>\n",
       "      <th>2023-05-16 13:30</th>\n",
       "      <td>7.19</td>\n",
       "    </tr>\n",
       "    <tr>\n",
       "      <th>2023-05-16 13:45</th>\n",
       "      <td>7.19</td>\n",
       "    </tr>\n",
       "    <tr>\n",
       "      <th>2023-05-16 14:00</th>\n",
       "      <td>7.16</td>\n",
       "    </tr>\n",
       "  </tbody>\n",
       "</table>\n",
       "</div>"
      ],
      "text/plain": [
       "                  328674_00065\n",
       "datetime                      \n",
       "2023-05-16 12:45          7.18\n",
       "2023-05-16 13:15          7.18\n",
       "2023-05-16 13:30          7.19\n",
       "2023-05-16 13:45          7.19\n",
       "2023-05-16 14:00          7.16"
      ]
     },
     "execution_count": 42,
     "metadata": {},
     "output_type": "execute_result"
    }
   ],
   "source": [
    "gage['328674_00065'] = gage['328674_00065'].astype(float)\n",
    "gage = gage[['datetime','328674_00065']]\n",
    "gage = gage.set_index('datetime')\n",
    "gage.head()"
   ]
  },
  {
   "cell_type": "code",
   "execution_count": 43,
   "id": "241ac55f",
   "metadata": {},
   "outputs": [],
   "source": [
    "#Read in raw flow data\n",
    "flow = pd.read_csv('https://waterservices.usgs.gov/nwis/iv/?sites=01473730&parameterCd=00060&startDT='+begin_date+'&endDT='+end_date+'&siteStatus=all&format=rdb', sep='\\t', skiprows=26)\n",
    "flow = flow.iloc[1: , :]"
   ]
  },
  {
   "cell_type": "code",
   "execution_count": 44,
   "id": "37d28bf9-c76b-45f2-8d1a-ef5670a30ff5",
   "metadata": {},
   "outputs": [
    {
     "data": {
      "text/html": [
       "<div>\n",
       "<style scoped>\n",
       "    .dataframe tbody tr th:only-of-type {\n",
       "        vertical-align: middle;\n",
       "    }\n",
       "\n",
       "    .dataframe tbody tr th {\n",
       "        vertical-align: top;\n",
       "    }\n",
       "\n",
       "    .dataframe thead th {\n",
       "        text-align: right;\n",
       "    }\n",
       "</style>\n",
       "<table border=\"1\" class=\"dataframe\">\n",
       "  <thead>\n",
       "    <tr style=\"text-align: right;\">\n",
       "      <th></th>\n",
       "      <th>328771_00060</th>\n",
       "    </tr>\n",
       "    <tr>\n",
       "      <th>datetime</th>\n",
       "      <th></th>\n",
       "    </tr>\n",
       "  </thead>\n",
       "  <tbody>\n",
       "    <tr>\n",
       "      <th>2023-05-16 12:45</th>\n",
       "      <td>1400.0</td>\n",
       "    </tr>\n",
       "    <tr>\n",
       "      <th>2023-05-16 13:15</th>\n",
       "      <td>1400.0</td>\n",
       "    </tr>\n",
       "    <tr>\n",
       "      <th>2023-05-16 13:30</th>\n",
       "      <td>1410.0</td>\n",
       "    </tr>\n",
       "    <tr>\n",
       "      <th>2023-05-16 13:45</th>\n",
       "      <td>1410.0</td>\n",
       "    </tr>\n",
       "    <tr>\n",
       "      <th>2023-05-16 14:00</th>\n",
       "      <td>1370.0</td>\n",
       "    </tr>\n",
       "  </tbody>\n",
       "</table>\n",
       "</div>"
      ],
      "text/plain": [
       "                  328771_00060\n",
       "datetime                      \n",
       "2023-05-16 12:45        1400.0\n",
       "2023-05-16 13:15        1400.0\n",
       "2023-05-16 13:30        1410.0\n",
       "2023-05-16 13:45        1410.0\n",
       "2023-05-16 14:00        1370.0"
      ]
     },
     "execution_count": 44,
     "metadata": {},
     "output_type": "execute_result"
    }
   ],
   "source": [
    "flow['328771_00060'] = flow['328771_00060'].astype(float)\n",
    "flow = flow[['datetime','328771_00060']]\n",
    "flow = flow.set_index('datetime')\n",
    "flow.head()"
   ]
  },
  {
   "cell_type": "code",
   "execution_count": 45,
   "id": "637e2e75",
   "metadata": {},
   "outputs": [
    {
     "data": {
      "text/html": [
       "<div>\n",
       "<style scoped>\n",
       "    .dataframe tbody tr th:only-of-type {\n",
       "        vertical-align: middle;\n",
       "    }\n",
       "\n",
       "    .dataframe tbody tr th {\n",
       "        vertical-align: top;\n",
       "    }\n",
       "\n",
       "    .dataframe thead th {\n",
       "        text-align: right;\n",
       "    }\n",
       "</style>\n",
       "<table border=\"1\" class=\"dataframe\">\n",
       "  <thead>\n",
       "    <tr style=\"text-align: right;\">\n",
       "      <th></th>\n",
       "      <th>328674_00065</th>\n",
       "      <th>328771_00060</th>\n",
       "    </tr>\n",
       "    <tr>\n",
       "      <th>datetime</th>\n",
       "      <th></th>\n",
       "      <th></th>\n",
       "    </tr>\n",
       "  </thead>\n",
       "  <tbody>\n",
       "    <tr>\n",
       "      <th>2023-05-16 12:45</th>\n",
       "      <td>7.18</td>\n",
       "      <td>1400.0</td>\n",
       "    </tr>\n",
       "    <tr>\n",
       "      <th>2023-05-16 13:15</th>\n",
       "      <td>7.18</td>\n",
       "      <td>1400.0</td>\n",
       "    </tr>\n",
       "    <tr>\n",
       "      <th>2023-05-16 13:30</th>\n",
       "      <td>7.19</td>\n",
       "      <td>1410.0</td>\n",
       "    </tr>\n",
       "    <tr>\n",
       "      <th>2023-05-16 13:45</th>\n",
       "      <td>7.19</td>\n",
       "      <td>1410.0</td>\n",
       "    </tr>\n",
       "    <tr>\n",
       "      <th>2023-05-16 14:00</th>\n",
       "      <td>7.16</td>\n",
       "      <td>1370.0</td>\n",
       "    </tr>\n",
       "  </tbody>\n",
       "</table>\n",
       "</div>"
      ],
      "text/plain": [
       "                  328674_00065  328771_00060\n",
       "datetime                                    \n",
       "2023-05-16 12:45          7.18        1400.0\n",
       "2023-05-16 13:15          7.18        1400.0\n",
       "2023-05-16 13:30          7.19        1410.0\n",
       "2023-05-16 13:45          7.19        1410.0\n",
       "2023-05-16 14:00          7.16        1370.0"
      ]
     },
     "execution_count": 45,
     "metadata": {},
     "output_type": "execute_result"
    }
   ],
   "source": [
    "# Merge datasets together on datetime index and check if everything is good\n",
    "df=pd.merge(gage, flow, how='inner', left_index=True, right_index=True)\n",
    "df.head()"
   ]
  },
  {
   "cell_type": "code",
   "execution_count": 46,
   "id": "93762981",
   "metadata": {},
   "outputs": [
    {
     "data": {
      "text/html": [
       "<div>\n",
       "<style scoped>\n",
       "    .dataframe tbody tr th:only-of-type {\n",
       "        vertical-align: middle;\n",
       "    }\n",
       "\n",
       "    .dataframe tbody tr th {\n",
       "        vertical-align: top;\n",
       "    }\n",
       "\n",
       "    .dataframe thead th {\n",
       "        text-align: right;\n",
       "    }\n",
       "</style>\n",
       "<table border=\"1\" class=\"dataframe\">\n",
       "  <thead>\n",
       "    <tr style=\"text-align: right;\">\n",
       "      <th></th>\n",
       "      <th>Gage</th>\n",
       "      <th>Flow</th>\n",
       "    </tr>\n",
       "    <tr>\n",
       "      <th>datetime</th>\n",
       "      <th></th>\n",
       "      <th></th>\n",
       "    </tr>\n",
       "  </thead>\n",
       "  <tbody>\n",
       "    <tr>\n",
       "      <th>2023-05-16 12:45</th>\n",
       "      <td>7.18</td>\n",
       "      <td>1400.0</td>\n",
       "    </tr>\n",
       "    <tr>\n",
       "      <th>2023-05-16 13:15</th>\n",
       "      <td>7.18</td>\n",
       "      <td>1400.0</td>\n",
       "    </tr>\n",
       "    <tr>\n",
       "      <th>2023-05-16 13:30</th>\n",
       "      <td>7.19</td>\n",
       "      <td>1410.0</td>\n",
       "    </tr>\n",
       "    <tr>\n",
       "      <th>2023-05-16 13:45</th>\n",
       "      <td>7.19</td>\n",
       "      <td>1410.0</td>\n",
       "    </tr>\n",
       "    <tr>\n",
       "      <th>2023-05-16 14:00</th>\n",
       "      <td>7.16</td>\n",
       "      <td>1370.0</td>\n",
       "    </tr>\n",
       "  </tbody>\n",
       "</table>\n",
       "</div>"
      ],
      "text/plain": [
       "                  Gage    Flow\n",
       "datetime                      \n",
       "2023-05-16 12:45  7.18  1400.0\n",
       "2023-05-16 13:15  7.18  1400.0\n",
       "2023-05-16 13:30  7.19  1410.0\n",
       "2023-05-16 13:45  7.19  1410.0\n",
       "2023-05-16 14:00  7.16  1370.0"
      ]
     },
     "execution_count": 46,
     "metadata": {},
     "output_type": "execute_result"
    }
   ],
   "source": [
    "# Rename gage and flow rate colums to something humane and check the dataframe\n",
    "df = df.rename(columns={\"328674_00065\": \"Gage\", \"328771_00060\": \"Flow\"  })\n",
    "df.head()"
   ]
  },
  {
   "cell_type": "code",
   "execution_count": 47,
   "id": "62ad22ed",
   "metadata": {},
   "outputs": [
    {
     "name": "stdout",
     "output_type": "stream",
     "text": [
      "number of rows =  44343\n"
     ]
    }
   ],
   "source": [
    "#check the number of training rows\n",
    "print('number of rows = ', df.shape[0])"
   ]
  },
  {
   "cell_type": "code",
   "execution_count": 48,
   "id": "0d0604e8",
   "metadata": {},
   "outputs": [],
   "source": [
    "# Shift Gage readings by X time units and set as training label, calculate gage and flow rates of change \n",
    "def gage_forecast(df, forecast):\n",
    "    df['Gage_forecast_'+str(forecast)] = df['Gage'].shift(-forecast)\n",
    "    df['Gage_forecast_'+str(forecast_horizon)] = df['Gage_forecast_'+str(forecast_horizon)]\n",
    "    df['Gage_diff'] = df['Gage'].shift(-1) - df['Gage']\n",
    "    df['Flow_diff'] = df['Flow'].shift(-1) - df['Flow']\n",
    "    df.drop(df.tail(forecast).index,inplace=True) # drop last n rows\n",
    "    return df"
   ]
  },
  {
   "cell_type": "code",
   "execution_count": 49,
   "id": "d00aaa0e",
   "metadata": {},
   "outputs": [],
   "source": [
    "# Set the forecast horizon. Note this is in time units, each time unit is 15 minutes. \n",
    "forecast_horizon = 24"
   ]
  },
  {
   "cell_type": "code",
   "execution_count": 50,
   "id": "b473243f",
   "metadata": {},
   "outputs": [
    {
     "data": {
      "text/html": [
       "<div>\n",
       "<style scoped>\n",
       "    .dataframe tbody tr th:only-of-type {\n",
       "        vertical-align: middle;\n",
       "    }\n",
       "\n",
       "    .dataframe tbody tr th {\n",
       "        vertical-align: top;\n",
       "    }\n",
       "\n",
       "    .dataframe thead th {\n",
       "        text-align: right;\n",
       "    }\n",
       "</style>\n",
       "<table border=\"1\" class=\"dataframe\">\n",
       "  <thead>\n",
       "    <tr style=\"text-align: right;\">\n",
       "      <th></th>\n",
       "      <th>Gage</th>\n",
       "      <th>Flow</th>\n",
       "      <th>Gage_forecast_24</th>\n",
       "      <th>Gage_diff</th>\n",
       "      <th>Flow_diff</th>\n",
       "    </tr>\n",
       "    <tr>\n",
       "      <th>datetime</th>\n",
       "      <th></th>\n",
       "      <th></th>\n",
       "      <th></th>\n",
       "      <th></th>\n",
       "      <th></th>\n",
       "    </tr>\n",
       "  </thead>\n",
       "  <tbody>\n",
       "    <tr>\n",
       "      <th>2024-08-09 19:00</th>\n",
       "      <td>10.24</td>\n",
       "      <td>6090.0</td>\n",
       "      <td>11.35</td>\n",
       "      <td>0.00</td>\n",
       "      <td>0.0</td>\n",
       "    </tr>\n",
       "    <tr>\n",
       "      <th>2024-08-09 19:15</th>\n",
       "      <td>10.24</td>\n",
       "      <td>6090.0</td>\n",
       "      <td>11.41</td>\n",
       "      <td>0.01</td>\n",
       "      <td>20.0</td>\n",
       "    </tr>\n",
       "    <tr>\n",
       "      <th>2024-08-09 19:30</th>\n",
       "      <td>10.25</td>\n",
       "      <td>6110.0</td>\n",
       "      <td>11.45</td>\n",
       "      <td>0.00</td>\n",
       "      <td>0.0</td>\n",
       "    </tr>\n",
       "    <tr>\n",
       "      <th>2024-08-09 19:45</th>\n",
       "      <td>10.25</td>\n",
       "      <td>6110.0</td>\n",
       "      <td>11.49</td>\n",
       "      <td>-0.02</td>\n",
       "      <td>-40.0</td>\n",
       "    </tr>\n",
       "    <tr>\n",
       "      <th>2024-08-09 20:00</th>\n",
       "      <td>10.23</td>\n",
       "      <td>6070.0</td>\n",
       "      <td>11.53</td>\n",
       "      <td>-0.01</td>\n",
       "      <td>-10.0</td>\n",
       "    </tr>\n",
       "    <tr>\n",
       "      <th>...</th>\n",
       "      <td>...</td>\n",
       "      <td>...</td>\n",
       "      <td>...</td>\n",
       "      <td>...</td>\n",
       "      <td>...</td>\n",
       "    </tr>\n",
       "    <tr>\n",
       "      <th>2024-08-11 18:15</th>\n",
       "      <td>8.56</td>\n",
       "      <td>3480.0</td>\n",
       "      <td>8.29</td>\n",
       "      <td>-0.01</td>\n",
       "      <td>-20.0</td>\n",
       "    </tr>\n",
       "    <tr>\n",
       "      <th>2024-08-11 18:30</th>\n",
       "      <td>8.55</td>\n",
       "      <td>3460.0</td>\n",
       "      <td>8.28</td>\n",
       "      <td>-0.02</td>\n",
       "      <td>-30.0</td>\n",
       "    </tr>\n",
       "    <tr>\n",
       "      <th>2024-08-11 18:45</th>\n",
       "      <td>8.53</td>\n",
       "      <td>3430.0</td>\n",
       "      <td>8.27</td>\n",
       "      <td>-0.02</td>\n",
       "      <td>-30.0</td>\n",
       "    </tr>\n",
       "    <tr>\n",
       "      <th>2024-08-11 19:00</th>\n",
       "      <td>8.51</td>\n",
       "      <td>3400.0</td>\n",
       "      <td>8.26</td>\n",
       "      <td>-0.01</td>\n",
       "      <td>-20.0</td>\n",
       "    </tr>\n",
       "    <tr>\n",
       "      <th>2024-08-11 19:15</th>\n",
       "      <td>8.50</td>\n",
       "      <td>3380.0</td>\n",
       "      <td>8.25</td>\n",
       "      <td>-0.02</td>\n",
       "      <td>-30.0</td>\n",
       "    </tr>\n",
       "  </tbody>\n",
       "</table>\n",
       "<p>200 rows × 5 columns</p>\n",
       "</div>"
      ],
      "text/plain": [
       "                   Gage    Flow  Gage_forecast_24  Gage_diff  Flow_diff\n",
       "datetime                                                               \n",
       "2024-08-09 19:00  10.24  6090.0             11.35       0.00        0.0\n",
       "2024-08-09 19:15  10.24  6090.0             11.41       0.01       20.0\n",
       "2024-08-09 19:30  10.25  6110.0             11.45       0.00        0.0\n",
       "2024-08-09 19:45  10.25  6110.0             11.49      -0.02      -40.0\n",
       "2024-08-09 20:00  10.23  6070.0             11.53      -0.01      -10.0\n",
       "...                 ...     ...               ...        ...        ...\n",
       "2024-08-11 18:15   8.56  3480.0              8.29      -0.01      -20.0\n",
       "2024-08-11 18:30   8.55  3460.0              8.28      -0.02      -30.0\n",
       "2024-08-11 18:45   8.53  3430.0              8.27      -0.02      -30.0\n",
       "2024-08-11 19:00   8.51  3400.0              8.26      -0.01      -20.0\n",
       "2024-08-11 19:15   8.50  3380.0              8.25      -0.02      -30.0\n",
       "\n",
       "[200 rows x 5 columns]"
      ]
     },
     "execution_count": 50,
     "metadata": {},
     "output_type": "execute_result"
    }
   ],
   "source": [
    "# Process gage forecast and check results\n",
    "df = gage_forecast(df, forecast_horizon)\n",
    "df.tail(200)"
   ]
  },
  {
   "cell_type": "code",
   "execution_count": 51,
   "id": "6274c8bc",
   "metadata": {},
   "outputs": [],
   "source": [
    "#df.to_csv('data/checkgagediff.csv')"
   ]
  },
  {
   "cell_type": "code",
   "execution_count": 52,
   "id": "1fb1906a",
   "metadata": {},
   "outputs": [
    {
     "data": {
      "image/png": "[encoded data removed]",
      "text/plain": [
       "<Figure size 640x480 with 3 Axes>"
      ]
     },
     "metadata": {},
     "output_type": "display_data"
    }
   ],
   "source": [
    "# Make a quick visual of stacked charts - this is a reality check\n",
    "values = df.values\n",
    "groups = [0,1,2,]\n",
    "i = 1\n",
    "# plot each column\n",
    "plt.figure()\n",
    "for group in groups:\n",
    "    plt.subplot(len(groups), 1, i)\n",
    "    plt.plot(values[:, group])\n",
    "    plt.title(df.columns[group], y=0.5, loc='right')\n",
    "    i += 1\n",
    "plt.show()"
   ]
  },
  {
   "cell_type": "code",
   "execution_count": 53,
   "id": "590f19ae",
   "metadata": {},
   "outputs": [
    {
     "data": {
      "text/plain": [
       "Text(0, 0.5, 'Gage (ft)')"
      ]
     },
     "execution_count": 53,
     "metadata": {},
     "output_type": "execute_result"
    },
    {
     "data": {
      "image/png": "[encoded data removed]",
      "text/plain": [
       "<Figure size 1000x600 with 1 Axes>"
      ]
     },
     "metadata": {},
     "output_type": "display_data"
    }
   ],
   "source": [
    "# Check if gage forecast is shifted from gage reading\n",
    "plt.figure(figsize=(10,6))\n",
    "plt.plot(df['Gage'].tail(100))\n",
    "plt.plot(df['Gage_forecast_'+str(forecast_horizon)].tail(100), color = 'orange')\n",
    "plt.xlabel('Datetime')\n",
    "plt.ylabel('Gage (ft)')"
   ]
  },
  {
   "cell_type": "code",
   "execution_count": 54,
   "id": "62f7c961",
   "metadata": {},
   "outputs": [],
   "source": [
    "#Split dataset into training and testing set\n",
    "df.reset_index(drop=True,inplace=True)\n",
    "df_train = df.loc[:int(df.shape[0]*0.8),:]\n",
    "df_test = df.loc[int(df.shape[0]*0.8):,:]"
   ]
  },
  {
   "cell_type": "code",
   "execution_count": 55,
   "id": "d706deda",
   "metadata": {},
   "outputs": [
    {
     "data": {
      "image/png": "[encoded data removed]",
      "text/plain": [
       "<Figure size 1000x600 with 1 Axes>"
      ]
     },
     "metadata": {},
     "output_type": "display_data"
    }
   ],
   "source": [
    "#Check dataset\n",
    "plt.figure(figsize=(10,6))\n",
    "plt.plot(df_train.index,df_train['Gage_forecast_'+str(forecast_horizon)])\n",
    "plt.plot(df_test.index,df_test['Gage_forecast_'+str(forecast_horizon)])\n",
    "plt.ylabel('Gage_forecast_'+str(forecast_horizon),fontsize=18)\n",
    "plt.legend(['train','test'])\n",
    "plt.show()"
   ]
  },
  {
   "cell_type": "code",
   "execution_count": 56,
   "id": "7d21569c",
   "metadata": {},
   "outputs": [
    {
     "name": "stdout",
     "output_type": "stream",
     "text": [
      "Checking whether there is an H2O instance running at http://localhost:54321..... not found.\n",
      "Attempting to start a local H2O server...\n",
      "  Java Version: openjdk version \"11.0.13\" 2021-10-19; OpenJDK Runtime Environment JBR-11.0.13.7-1751.21-jcef (build 11.0.13+7-b1751.21); OpenJDK 64-Bit Server VM JBR-11.0.13.7-1751.21-jcef (build 11.0.13+7-b1751.21, mixed mode)\n",
      "  Starting server from /Users/tott/opt/anaconda3/envs/venv-usgs/lib/python3.10/site-packages/h2o/backend/bin/h2o.jar\n",
      "  Ice root: /var/folders/39/8gc7tmt964lf1zccbqy781gm0000gp/T/tmplltx9wbf\n",
      "  JVM stdout: /var/folders/39/8gc7tmt964lf1zccbqy781gm0000gp/T/tmplltx9wbf/h2o_tott_started_from_python.out\n",
      "  JVM stderr: /var/folders/39/8gc7tmt964lf1zccbqy781gm0000gp/T/tmplltx9wbf/h2o_tott_started_from_python.err\n",
      "  Server is running at http://127.0.0.1:54321\n",
      "Connecting to H2O server at http://127.0.0.1:54321 ... successful.\n"
     ]
    },
    {
     "data": {
      "text/html": [
       "\n",
       "<style>\n",
       "\n",
       "#h2o-table-5.h2o-container {\n",
       "  overflow-x: auto;\n",
       "}\n",
       "#h2o-table-5 .h2o-table {\n",
       "  /* width: 100%; */\n",
       "  margin-top: 1em;\n",
       "  margin-bottom: 1em;\n",
       "}\n",
       "#h2o-table-5 .h2o-table caption {\n",
       "  white-space: nowrap;\n",
       "  caption-side: top;\n",
       "  text-align: left;\n",
       "  /* margin-left: 1em; */\n",
       "  margin: 0;\n",
       "  font-size: larger;\n",
       "}\n",
       "#h2o-table-5 .h2o-table thead {\n",
       "  white-space: nowrap; \n",
       "  position: sticky;\n",
       "  top: 0;\n",
       "  box-shadow: 0 -1px inset;\n",
       "}\n",
       "#h2o-table-5 .h2o-table tbody {\n",
       "  overflow: auto;\n",
       "}\n",
       "#h2o-table-5 .h2o-table th,\n",
       "#h2o-table-5 .h2o-table td {\n",
       "  text-align: right;\n",
       "  /* border: 1px solid; */\n",
       "}\n",
       "#h2o-table-5 .h2o-table tr:nth-child(even) {\n",
       "  /* background: #F5F5F5 */\n",
       "}\n",
       "\n",
       "</style>      \n",
       "<div id=\"h2o-table-5\" class=\"h2o-container\">\n",
       "  <table class=\"h2o-table\">\n",
       "    <caption></caption>\n",
       "    <thead></thead>\n",
       "    <tbody><tr><td>H2O_cluster_uptime:</td>\n",
       "<td>04 secs</td></tr>\n",
       "<tr><td>H2O_cluster_timezone:</td>\n",
       "<td>America/Los_Angeles</td></tr>\n",
       "<tr><td>H2O_data_parsing_timezone:</td>\n",
       "<td>UTC</td></tr>\n",
       "<tr><td>H2O_cluster_version:</td>\n",
       "<td>3.46.0.4</td></tr>\n",
       "<tr><td>H2O_cluster_version_age:</td>\n",
       "<td>1 month and 2 days</td></tr>\n",
       "<tr><td>H2O_cluster_name:</td>\n",
       "<td>H2O_from_python_tott_3cfzq6</td></tr>\n",
       "<tr><td>H2O_cluster_total_nodes:</td>\n",
       "<td>1</td></tr>\n",
       "<tr><td>H2O_cluster_free_memory:</td>\n",
       "<td>4 Gb</td></tr>\n",
       "<tr><td>H2O_cluster_total_cores:</td>\n",
       "<td>10</td></tr>\n",
       "<tr><td>H2O_cluster_allowed_cores:</td>\n",
       "<td>10</td></tr>\n",
       "<tr><td>H2O_cluster_status:</td>\n",
       "<td>locked, healthy</td></tr>\n",
       "<tr><td>H2O_connection_url:</td>\n",
       "<td>http://127.0.0.1:54321</td></tr>\n",
       "<tr><td>H2O_connection_proxy:</td>\n",
       "<td>{\"http\": null, \"https\": null}</td></tr>\n",
       "<tr><td>H2O_internal_security:</td>\n",
       "<td>False</td></tr>\n",
       "<tr><td>Python_version:</td>\n",
       "<td>3.10.14 final</td></tr></tbody>\n",
       "  </table>\n",
       "</div>\n"
      ],
      "text/plain": [
       "--------------------------  -----------------------------\n",
       "H2O_cluster_uptime:         04 secs\n",
       "H2O_cluster_timezone:       America/Los_Angeles\n",
       "H2O_data_parsing_timezone:  UTC\n",
       "H2O_cluster_version:        3.46.0.4\n",
       "H2O_cluster_version_age:    1 month and 2 days\n",
       "H2O_cluster_name:           H2O_from_python_tott_3cfzq6\n",
       "H2O_cluster_total_nodes:    1\n",
       "H2O_cluster_free_memory:    4 Gb\n",
       "H2O_cluster_total_cores:    10\n",
       "H2O_cluster_allowed_cores:  10\n",
       "H2O_cluster_status:         locked, healthy\n",
       "H2O_connection_url:         http://127.0.0.1:54321\n",
       "H2O_connection_proxy:       {\"http\": null, \"https\": null}\n",
       "H2O_internal_security:      False\n",
       "Python_version:             3.10.14 final\n",
       "--------------------------  -----------------------------"
      ]
     },
     "metadata": {},
     "output_type": "display_data"
    }
   ],
   "source": [
    "# Initialize H2O-3 on single node\n",
    "h2o.init(nthreads=-1)"
   ]
  },
  {
   "cell_type": "code",
   "execution_count": 57,
   "id": "a793f60e",
   "metadata": {},
   "outputs": [
    {
     "name": "stdout",
     "output_type": "stream",
     "text": [
      "Parse progress: |████████████████████████████████████████████████████████████████| (done) 100%\n",
      "Parse progress: |████████████████████████████████████████████████████████████████| (done) 100%\n"
     ]
    }
   ],
   "source": [
    "# Load datesets into H2O frames\n",
    "hf_train = h2o.H2OFrame(df_train)\n",
    "hf_test = h2o.H2OFrame(df_test)"
   ]
  },
  {
   "cell_type": "code",
   "execution_count": 58,
   "id": "223bcfc3",
   "metadata": {},
   "outputs": [
    {
     "data": {
      "text/html": [
       "<pre style='margin: 1em 0 1em 0;'>Rows:35456\n",
       "Cols:5\n",
       "</pre>"
      ],
      "text/plain": [
       "Rows:35456\n",
       "Cols:5\n"
      ]
     },
     "metadata": {},
     "output_type": "display_data"
    },
    {
     "data": {
      "text/html": [
       "<table class='dataframe'>\n",
       "<thead>\n",
       "<tr><th>       </th><th>Gage             </th><th>Flow              </th><th>Gage_forecast_24  </th><th>Gage_diff             </th><th>Flow_diff          </th></tr>\n",
       "</thead>\n",
       "<tbody>\n",
       "<tr><td>type   </td><td>real             </td><td>int               </td><td>real              </td><td>real                  </td><td>int                </td></tr>\n",
       "<tr><td>mins   </td><td>6.55             </td><td>578.0             </td><td>6.55              </td><td>-0.2900000000000027   </td><td>-1100.0            </td></tr>\n",
       "<tr><td>mean   </td><td>8.477109092960278</td><td>3734.7729016245185</td><td>8.477790218862856 </td><td>2.9050090252707974e-05</td><td>0.04315207581227285</td></tr>\n",
       "<tr><td>maxs   </td><td>23.59            </td><td>51100.0           </td><td>23.59             </td><td>0.6899999999999995    </td><td>2500.0             </td></tr>\n",
       "<tr><td>sigma  </td><td>2.179197245987809</td><td>5032.8485076781835</td><td>2.1789441703416284</td><td>0.035367032190563016  </td><td>100.52965107557337 </td></tr>\n",
       "<tr><td>zeros  </td><td>0                </td><td>0                 </td><td>0                 </td><td>15367                 </td><td>15686              </td></tr>\n",
       "<tr><td>missing</td><td>0                </td><td>0                 </td><td>0                 </td><td>0                     </td><td>0                  </td></tr>\n",
       "<tr><td>0      </td><td>7.18             </td><td>1400.0            </td><td>7.15              </td><td>0.0                   </td><td>0.0                </td></tr>\n",
       "<tr><td>1      </td><td>7.18             </td><td>1400.0            </td><td>7.16              </td><td>0.010000000000000677  </td><td>10.0               </td></tr>\n",
       "<tr><td>2      </td><td>7.19             </td><td>1410.0            </td><td>7.16              </td><td>0.0                   </td><td>0.0                </td></tr>\n",
       "<tr><td>3      </td><td>7.19             </td><td>1410.0            </td><td>7.16              </td><td>-0.03000000000000025  </td><td>-40.0              </td></tr>\n",
       "<tr><td>4      </td><td>7.16             </td><td>1370.0            </td><td>7.16              </td><td>0.0                   </td><td>0.0                </td></tr>\n",
       "<tr><td>5      </td><td>7.16             </td><td>1370.0            </td><td>7.16              </td><td>0.019999999999999577  </td><td>30.0               </td></tr>\n",
       "<tr><td>6      </td><td>7.18             </td><td>1400.0            </td><td>7.16              </td><td>-0.009999999999999789 </td><td>-20.0              </td></tr>\n",
       "<tr><td>7      </td><td>7.17             </td><td>1380.0            </td><td>7.16              </td><td>0.0                   </td><td>0.0                </td></tr>\n",
       "<tr><td>8      </td><td>7.17             </td><td>1380.0            </td><td>7.16              </td><td>0.009999999999999789  </td><td>20.0               </td></tr>\n",
       "<tr><td>9      </td><td>7.18             </td><td>1400.0            </td><td>7.16              </td><td>0.0                   </td><td>0.0                </td></tr>\n",
       "</tbody>\n",
       "</table><pre style='font-size: smaller; margin-bottom: 1em;'>[35456 rows x 5 columns]</pre>"
      ],
      "text/plain": [
       "         Gage               Flow                Gage_forecast_24    Gage_diff               Flow_diff\n",
       "-------  -----------------  ------------------  ------------------  ----------------------  -------------------\n",
       "type     real               int                 real                real                    int\n",
       "mins     6.55               578.0               6.55                -0.2900000000000027     -1100.0\n",
       "mean     8.477109092960278  3734.7729016245185  8.477790218862856   2.9050090252707974e-05  0.04315207581227285\n",
       "maxs     23.59              51100.0             23.59               0.6899999999999995      2500.0\n",
       "sigma    2.179197245987809  5032.8485076781835  2.1789441703416284  0.035367032190563016    100.52965107557337\n",
       "zeros    0                  0                   0                   15367                   15686\n",
       "missing  0                  0                   0                   0                       0\n",
       "0        7.18               1400.0              7.15                0.0                     0.0\n",
       "1        7.18               1400.0              7.16                0.010000000000000677    10.0\n",
       "2        7.19               1410.0              7.16                0.0                     0.0\n",
       "3        7.19               1410.0              7.16                -0.03000000000000025    -40.0\n",
       "4        7.16               1370.0              7.16                0.0                     0.0\n",
       "5        7.16               1370.0              7.16                0.019999999999999577    30.0\n",
       "6        7.18               1400.0              7.16                -0.009999999999999789   -20.0\n",
       "7        7.17               1380.0              7.16                0.0                     0.0\n",
       "8        7.17               1380.0              7.16                0.009999999999999789    20.0\n",
       "9        7.18               1400.0              7.16                0.0                     0.0\n",
       "[35456 rows x 5 columns]\n"
      ]
     },
     "metadata": {},
     "output_type": "display_data"
    }
   ],
   "source": [
    "# Check the dataset\n",
    "hf_train.describe()"
   ]
  },
  {
   "cell_type": "code",
   "execution_count": 59,
   "id": "afffd49e",
   "metadata": {},
   "outputs": [],
   "source": [
    "# Set up the independent variable 'y' and the dependent variables 'X'\n",
    "#y = 'Gage_forecast_'+str(forecast_horizon)\n",
    "y = 'Gage_forecast_'+str(forecast_horizon)\n",
    "X = hf_train.columns\n",
    "X.remove(y)"
   ]
  },
  {
   "cell_type": "code",
   "execution_count": 60,
   "id": "40de866c",
   "metadata": {},
   "outputs": [
    {
     "data": {
      "text/plain": [
       "['Gage', 'Flow', 'Gage_diff', 'Flow_diff']"
      ]
     },
     "execution_count": 60,
     "metadata": {},
     "output_type": "execute_result"
    }
   ],
   "source": [
    "# List the columns for training, just for reality check\n",
    "X"
   ]
  },
  {
   "cell_type": "code",
   "execution_count": 61,
   "id": "581e0590",
   "metadata": {},
   "outputs": [
    {
     "name": "stdout",
     "output_type": "stream",
     "text": [
      "AutoML progress: |███████████████████████████████████████████████████████████████| (done) 100%\n"
     ]
    },
    {
     "data": {
      "text/html": [
       "<pre style='margin: 1em 0 1em 0;'>Model Details\n",
       "=============\n",
       "H2ODeepLearningEstimator : Deep Learning\n",
       "Model Key: DeepLearning_grid_1_AutoML_1_20240812_110712_model_2\n",
       "</pre>\n",
       "<div style='margin: 1em 0 1em 0;'>\n",
       "<style>\n",
       "\n",
       "#h2o-table-6.h2o-container {\n",
       "  overflow-x: auto;\n",
       "}\n",
       "#h2o-table-6 .h2o-table {\n",
       "  /* width: 100%; */\n",
       "  margin-top: 1em;\n",
       "  margin-bottom: 1em;\n",
       "}\n",
       "#h2o-table-6 .h2o-table caption {\n",
       "  white-space: nowrap;\n",
       "  caption-side: top;\n",
       "  text-align: left;\n",
       "  /* margin-left: 1em; */\n",
       "  margin: 0;\n",
       "  font-size: larger;\n",
       "}\n",
       "#h2o-table-6 .h2o-table thead {\n",
       "  white-space: nowrap; \n",
       "  position: sticky;\n",
       "  top: 0;\n",
       "  box-shadow: 0 -1px inset;\n",
       "}\n",
       "#h2o-table-6 .h2o-table tbody {\n",
       "  overflow: auto;\n",
       "}\n",
       "#h2o-table-6 .h2o-table th,\n",
       "#h2o-table-6 .h2o-table td {\n",
       "  text-align: right;\n",
       "  /* border: 1px solid; */\n",
       "}\n",
       "#h2o-table-6 .h2o-table tr:nth-child(even) {\n",
       "  /* background: #F5F5F5 */\n",
       "}\n",
       "\n",
       "</style>      \n",
       "<div id=\"h2o-table-6\" class=\"h2o-container\">\n",
       "  <table class=\"h2o-table\">\n",
       "    <caption>Status of Neuron Layers: predicting Gage_forecast_24, regression, gaussian distribution, Quadratic loss, 301 weights/biases, 7.6 KB, 30,100,906 training samples, mini-batch size 1</caption>\n",
       "    <thead><tr><th></th>\n",
       "<th>layer</th>\n",
       "<th>units</th>\n",
       "<th>type</th>\n",
       "<th>dropout</th>\n",
       "<th>l1</th>\n",
       "<th>l2</th>\n",
       "<th>mean_rate</th>\n",
       "<th>rate_rms</th>\n",
       "<th>momentum</th>\n",
       "<th>mean_weight</th>\n",
       "<th>weight_rms</th>\n",
       "<th>mean_bias</th>\n",
       "<th>bias_rms</th></tr></thead>\n",
       "    <tbody><tr><td></td>\n",
       "<td>1</td>\n",
       "<td>4</td>\n",
       "<td>Input</td>\n",
       "<td>20.0</td>\n",
       "<td></td>\n",
       "<td></td>\n",
       "<td></td>\n",
       "<td></td>\n",
       "<td></td>\n",
       "<td></td>\n",
       "<td></td>\n",
       "<td></td>\n",
       "<td></td></tr>\n",
       "<tr><td></td>\n",
       "<td>2</td>\n",
       "<td>50</td>\n",
       "<td>RectifierDropout</td>\n",
       "<td>10.0</td>\n",
       "<td>0.0</td>\n",
       "<td>0.0</td>\n",
       "<td>0.1497064</td>\n",
       "<td>0.2152863</td>\n",
       "<td>0.0</td>\n",
       "<td>-0.7629139</td>\n",
       "<td>6.4396515</td>\n",
       "<td>-0.7332170</td>\n",
       "<td>3.8752241</td></tr>\n",
       "<tr><td></td>\n",
       "<td>3</td>\n",
       "<td>1</td>\n",
       "<td>Linear</td>\n",
       "<td></td>\n",
       "<td>0.0</td>\n",
       "<td>0.0</td>\n",
       "<td>0.0413452</td>\n",
       "<td>0.1169625</td>\n",
       "<td>0.0</td>\n",
       "<td>0.5553053</td>\n",
       "<td>0.7567689</td>\n",
       "<td>0.4090081</td>\n",
       "<td>0.0000000</td></tr></tbody>\n",
       "  </table>\n",
       "</div>\n",
       "</div>\n",
       "<div style='margin: 1em 0 1em 0;'><pre style='margin: 1em 0 1em 0;'>ModelMetricsRegression: deeplearning\n",
       "** Reported on train data. **\n",
       "\n",
       "MSE: 0.3183183943266328\n",
       "RMSE: 0.5641971236426438\n",
       "MAE: 0.22969302904673733\n",
       "RMSLE: 0.04263574566799347\n",
       "Mean Residual Deviance: 0.3183183943266328</pre></div>\n",
       "<div style='margin: 1em 0 1em 0;'><pre style='margin: 1em 0 1em 0;'>ModelMetricsRegression: deeplearning\n",
       "** Reported on validation data. **\n",
       "\n",
       "MSE: 0.04290615050771554\n",
       "RMSE: 0.2071379987054899\n",
       "MAE: 0.11033852742353964\n",
       "RMSLE: 0.02238733891394916\n",
       "Mean Residual Deviance: 0.04290615050771554</pre></div>\n",
       "<div style='margin: 1em 0 1em 0;'>\n",
       "<style>\n",
       "\n",
       "#h2o-table-7.h2o-container {\n",
       "  overflow-x: auto;\n",
       "}\n",
       "#h2o-table-7 .h2o-table {\n",
       "  /* width: 100%; */\n",
       "  margin-top: 1em;\n",
       "  margin-bottom: 1em;\n",
       "}\n",
       "#h2o-table-7 .h2o-table caption {\n",
       "  white-space: nowrap;\n",
       "  caption-side: top;\n",
       "  text-align: left;\n",
       "  /* margin-left: 1em; */\n",
       "  margin: 0;\n",
       "  font-size: larger;\n",
       "}\n",
       "#h2o-table-7 .h2o-table thead {\n",
       "  white-space: nowrap; \n",
       "  position: sticky;\n",
       "  top: 0;\n",
       "  box-shadow: 0 -1px inset;\n",
       "}\n",
       "#h2o-table-7 .h2o-table tbody {\n",
       "  overflow: auto;\n",
       "}\n",
       "#h2o-table-7 .h2o-table th,\n",
       "#h2o-table-7 .h2o-table td {\n",
       "  text-align: right;\n",
       "  /* border: 1px solid; */\n",
       "}\n",
       "#h2o-table-7 .h2o-table tr:nth-child(even) {\n",
       "  /* background: #F5F5F5 */\n",
       "}\n",
       "\n",
       "</style>      \n",
       "<div id=\"h2o-table-7\" class=\"h2o-container\">\n",
       "  <table class=\"h2o-table\">\n",
       "    <caption>Scoring History: </caption>\n",
       "    <thead><tr><th></th>\n",
       "<th>timestamp</th>\n",
       "<th>duration</th>\n",
       "<th>training_speed</th>\n",
       "<th>epochs</th>\n",
       "<th>iterations</th>\n",
       "<th>samples</th>\n",
       "<th>training_rmse</th>\n",
       "<th>training_deviance</th>\n",
       "<th>training_mae</th>\n",
       "<th>training_r2</th>\n",
       "<th>validation_rmse</th>\n",
       "<th>validation_deviance</th>\n",
       "<th>validation_mae</th>\n",
       "<th>validation_r2</th></tr></thead>\n",
       "    <tbody><tr><td></td>\n",
       "<td>2024-08-12 11:22:43</td>\n",
       "<td> 0.000 sec</td>\n",
       "<td>None</td>\n",
       "<td>0.0</td>\n",
       "<td>0</td>\n",
       "<td>0.0</td>\n",
       "<td>nan</td>\n",
       "<td>nan</td>\n",
       "<td>nan</td>\n",
       "<td>nan</td>\n",
       "<td>nan</td>\n",
       "<td>nan</td>\n",
       "<td>nan</td>\n",
       "<td>nan</td></tr>\n",
       "<tr><td></td>\n",
       "<td>2024-08-12 11:22:43</td>\n",
       "<td>47.231 sec</td>\n",
       "<td>293275 obs/sec</td>\n",
       "<td>2.8205945</td>\n",
       "<td>1</td>\n",
       "<td>100007.0</td>\n",
       "<td>0.5831378</td>\n",
       "<td>0.3400497</td>\n",
       "<td>0.1993603</td>\n",
       "<td>0.9303076</td>\n",
       "<td>0.2338818</td>\n",
       "<td>0.0547007</td>\n",
       "<td>0.1294499</td>\n",
       "<td>0.8956236</td></tr>\n",
       "<tr><td></td>\n",
       "<td>2024-08-12 11:22:48</td>\n",
       "<td>52.292 sec</td>\n",
       "<td>446548 obs/sec</td>\n",
       "<td>67.6824797</td>\n",
       "<td>24</td>\n",
       "<td>2399750.0</td>\n",
       "<td>0.6195123</td>\n",
       "<td>0.3837955</td>\n",
       "<td>0.2572952</td>\n",
       "<td>0.9213420</td>\n",
       "<td>0.2190615</td>\n",
       "<td>0.0479880</td>\n",
       "<td>0.1211805</td>\n",
       "<td>0.9084325</td></tr>\n",
       "<tr><td></td>\n",
       "<td>2024-08-12 11:22:54</td>\n",
       "<td>57.452 sec</td>\n",
       "<td>475507 obs/sec</td>\n",
       "<td>141.0052741</td>\n",
       "<td>50</td>\n",
       "<td>4999483.0</td>\n",
       "<td>0.6825957</td>\n",
       "<td>0.4659369</td>\n",
       "<td>0.4350297</td>\n",
       "<td>0.9045073</td>\n",
       "<td>0.3657795</td>\n",
       "<td>0.1337946</td>\n",
       "<td>0.2985233</td>\n",
       "<td>0.7447017</td></tr>\n",
       "<tr><td></td>\n",
       "<td>2024-08-12 11:22:59</td>\n",
       "<td> 1 min  2.556 sec</td>\n",
       "<td>500525 obs/sec</td>\n",
       "<td>219.9822033</td>\n",
       "<td>78</td>\n",
       "<td>7799689.0</td>\n",
       "<td>0.6170869</td>\n",
       "<td>0.3807962</td>\n",
       "<td>0.3309196</td>\n",
       "<td>0.9219567</td>\n",
       "<td>0.2551910</td>\n",
       "<td>0.0651224</td>\n",
       "<td>0.1839884</td>\n",
       "<td>0.8757376</td></tr>\n",
       "<tr><td></td>\n",
       "<td>2024-08-12 11:23:04</td>\n",
       "<td> 1 min  7.713 sec</td>\n",
       "<td>516485 obs/sec</td>\n",
       "<td>301.7687274</td>\n",
       "<td>107</td>\n",
       "<td>10699512.0000000</td>\n",
       "<td>0.6855032</td>\n",
       "<td>0.4699146</td>\n",
       "<td>0.3790423</td>\n",
       "<td>0.9036921</td>\n",
       "<td>0.2729813</td>\n",
       "<td>0.0745188</td>\n",
       "<td>0.2036235</td>\n",
       "<td>0.8578080</td></tr>\n",
       "<tr><td></td>\n",
       "<td>2024-08-12 11:23:09</td>\n",
       "<td> 1 min 12.791 sec</td>\n",
       "<td>531847 obs/sec</td>\n",
       "<td>386.3902019</td>\n",
       "<td>137</td>\n",
       "<td>13699851.0000000</td>\n",
       "<td>0.5540637</td>\n",
       "<td>0.3069866</td>\n",
       "<td>0.2199075</td>\n",
       "<td>0.9370838</td>\n",
       "<td>0.2192897</td>\n",
       "<td>0.0480880</td>\n",
       "<td>0.1141867</td>\n",
       "<td>0.9082416</td></tr>\n",
       "<tr><td></td>\n",
       "<td>2024-08-12 11:23:14</td>\n",
       "<td> 1 min 17.933 sec</td>\n",
       "<td>548010 obs/sec</td>\n",
       "<td>476.6654445</td>\n",
       "<td>169</td>\n",
       "<td>16900650.0000000</td>\n",
       "<td>0.5641971</td>\n",
       "<td>0.3183184</td>\n",
       "<td>0.2296930</td>\n",
       "<td>0.9347614</td>\n",
       "<td>0.2071380</td>\n",
       "<td>0.0429062</td>\n",
       "<td>0.1103385</td>\n",
       "<td>0.9181292</td></tr>\n",
       "<tr><td></td>\n",
       "<td>2024-08-12 11:23:19</td>\n",
       "<td> 1 min 22.965 sec</td>\n",
       "<td>557787 obs/sec</td>\n",
       "<td>564.1120826</td>\n",
       "<td>200</td>\n",
       "<td>20001158.0000000</td>\n",
       "<td>0.5597951</td>\n",
       "<td>0.3133706</td>\n",
       "<td>0.2366100</td>\n",
       "<td>0.9357754</td>\n",
       "<td>0.2358573</td>\n",
       "<td>0.0556287</td>\n",
       "<td>0.1302932</td>\n",
       "<td>0.8938529</td></tr>\n",
       "<tr><td></td>\n",
       "<td>2024-08-12 11:23:24</td>\n",
       "<td> 1 min 28.079 sec</td>\n",
       "<td>571366 obs/sec</td>\n",
       "<td>659.9983642</td>\n",
       "<td>234</td>\n",
       "<td>23400902.0000000</td>\n",
       "<td>1.3549679</td>\n",
       "<td>1.8359381</td>\n",
       "<td>0.4827017</td>\n",
       "<td>0.6237287</td>\n",
       "<td>0.2597531</td>\n",
       "<td>0.0674717</td>\n",
       "<td>0.1408182</td>\n",
       "<td>0.8712549</td></tr>\n",
       "<tr><td></td>\n",
       "<td>2024-08-12 11:23:29</td>\n",
       "<td> 1 min 33.196 sec</td>\n",
       "<td>581952 obs/sec</td>\n",
       "<td>755.9015117</td>\n",
       "<td>268</td>\n",
       "<td>26801244.0000000</td>\n",
       "<td>0.5565475</td>\n",
       "<td>0.3097451</td>\n",
       "<td>0.2975047</td>\n",
       "<td>0.9365184</td>\n",
       "<td>0.3477090</td>\n",
       "<td>0.1209016</td>\n",
       "<td>0.2823534</td>\n",
       "<td>0.7693034</td></tr>\n",
       "<tr><td></td>\n",
       "<td>2024-08-12 11:23:35</td>\n",
       "<td> 1 min 38.352 sec</td>\n",
       "<td>588011 obs/sec</td>\n",
       "<td>848.9650835</td>\n",
       "<td>301</td>\n",
       "<td>30100906.0000000</td>\n",
       "<td>0.5913622</td>\n",
       "<td>0.3497092</td>\n",
       "<td>0.2061009</td>\n",
       "<td>0.9283279</td>\n",
       "<td>0.2194460</td>\n",
       "<td>0.0481566</td>\n",
       "<td>0.1167187</td>\n",
       "<td>0.9081107</td></tr>\n",
       "<tr><td></td>\n",
       "<td>2024-08-12 11:23:35</td>\n",
       "<td> 1 min 38.368 sec</td>\n",
       "<td>587977 obs/sec</td>\n",
       "<td>848.9650835</td>\n",
       "<td>301</td>\n",
       "<td>30100906.0000000</td>\n",
       "<td>0.5641971</td>\n",
       "<td>0.3183184</td>\n",
       "<td>0.2296930</td>\n",
       "<td>0.9347614</td>\n",
       "<td>0.2071380</td>\n",
       "<td>0.0429062</td>\n",
       "<td>0.1103385</td>\n",
       "<td>0.9181292</td></tr></tbody>\n",
       "  </table>\n",
       "</div>\n",
       "</div>\n",
       "<div style='margin: 1em 0 1em 0;'>\n",
       "<style>\n",
       "\n",
       "#h2o-table-8.h2o-container {\n",
       "  overflow-x: auto;\n",
       "}\n",
       "#h2o-table-8 .h2o-table {\n",
       "  /* width: 100%; */\n",
       "  margin-top: 1em;\n",
       "  margin-bottom: 1em;\n",
       "}\n",
       "#h2o-table-8 .h2o-table caption {\n",
       "  white-space: nowrap;\n",
       "  caption-side: top;\n",
       "  text-align: left;\n",
       "  /* margin-left: 1em; */\n",
       "  margin: 0;\n",
       "  font-size: larger;\n",
       "}\n",
       "#h2o-table-8 .h2o-table thead {\n",
       "  white-space: nowrap; \n",
       "  position: sticky;\n",
       "  top: 0;\n",
       "  box-shadow: 0 -1px inset;\n",
       "}\n",
       "#h2o-table-8 .h2o-table tbody {\n",
       "  overflow: auto;\n",
       "}\n",
       "#h2o-table-8 .h2o-table th,\n",
       "#h2o-table-8 .h2o-table td {\n",
       "  text-align: right;\n",
       "  /* border: 1px solid; */\n",
       "}\n",
       "#h2o-table-8 .h2o-table tr:nth-child(even) {\n",
       "  /* background: #F5F5F5 */\n",
       "}\n",
       "\n",
       "</style>      \n",
       "<div id=\"h2o-table-8\" class=\"h2o-container\">\n",
       "  <table class=\"h2o-table\">\n",
       "    <caption>Variable Importances: </caption>\n",
       "    <thead><tr><th>variable</th>\n",
       "<th>relative_importance</th>\n",
       "<th>scaled_importance</th>\n",
       "<th>percentage</th></tr></thead>\n",
       "    <tbody><tr><td>Flow</td>\n",
       "<td>1.0</td>\n",
       "<td>1.0</td>\n",
       "<td>0.4564888</td></tr>\n",
       "<tr><td>Gage</td>\n",
       "<td>0.7391637</td>\n",
       "<td>0.7391637</td>\n",
       "<td>0.3374199</td></tr>\n",
       "<tr><td>Flow_diff</td>\n",
       "<td>0.2844529</td>\n",
       "<td>0.2844529</td>\n",
       "<td>0.1298495</td></tr>\n",
       "<tr><td>Gage_diff</td>\n",
       "<td>0.1670178</td>\n",
       "<td>0.1670178</td>\n",
       "<td>0.0762418</td></tr></tbody>\n",
       "  </table>\n",
       "</div>\n",
       "</div><pre style=\"font-size: smaller; margin: 1em 0 0 0;\">\n",
       "\n",
       "[tips]\n",
       "Use `model.explain()` to inspect the model.\n",
       "--\n",
       "Use `h2o.display.toggle_user_tips()` to switch on/off this section.</pre>"
      ],
      "text/plain": [
       "Model Details\n",
       "=============\n",
       "H2ODeepLearningEstimator : Deep Learning\n",
       "Model Key: DeepLearning_grid_1_AutoML_1_20240812_110712_model_2\n",
       "\n",
       "\n",
       "Status of Neuron Layers: predicting Gage_forecast_24, regression, gaussian distribution, Quadratic loss, 301 weights/biases, 7.6 KB, 30,100,906 training samples, mini-batch size 1\n",
       "    layer    units    type              dropout    l1    l2    mean_rate            rate_rms             momentum    mean_weight          weight_rms          mean_bias            bias_rms\n",
       "--  -------  -------  ----------------  ---------  ----  ----  -------------------  -------------------  ----------  -------------------  ------------------  -------------------  -----------------------\n",
       "    1        4        Input             20.0\n",
       "    2        50       RectifierDropout  10.0       0.0   0.0   0.14970638387326743  0.2152862548828125   0.0         -0.7629138674984642  6.4396514892578125  -0.7332169651581967  3.8752241134643555\n",
       "    3        1        Linear                       0.0   0.0   0.04134520569612505  0.11696252226829529  0.0         0.5553052651323378   0.7567689418792725  0.4090081021662006   1.0971281125650402e-154\n",
       "\n",
       "ModelMetricsRegression: deeplearning\n",
       "** Reported on train data. **\n",
       "\n",
       "MSE: 0.3183183943266328\n",
       "RMSE: 0.5641971236426438\n",
       "MAE: 0.22969302904673733\n",
       "RMSLE: 0.04263574566799347\n",
       "Mean Residual Deviance: 0.3183183943266328\n",
       "\n",
       "ModelMetricsRegression: deeplearning\n",
       "** Reported on validation data. **\n",
       "\n",
       "MSE: 0.04290615050771554\n",
       "RMSE: 0.2071379987054899\n",
       "MAE: 0.11033852742353964\n",
       "RMSLE: 0.02238733891394916\n",
       "Mean Residual Deviance: 0.04290615050771554\n",
       "\n",
       "Scoring History: \n",
       "    timestamp            duration          training_speed    epochs    iterations    samples      training_rmse    training_deviance    training_mae    training_r2    validation_rmse    validation_deviance    validation_mae    validation_r2\n",
       "--  -------------------  ----------------  ----------------  --------  ------------  -----------  ---------------  -------------------  --------------  -------------  -----------------  ---------------------  ----------------  ---------------\n",
       "    2024-08-12 11:22:43  0.000 sec                           0         0             0            nan              nan                  nan             nan            nan                nan                    nan               nan\n",
       "    2024-08-12 11:22:43  47.231 sec        293275 obs/sec    2.82059   1             100007       0.583138         0.34005              0.19936         0.930308       0.233882           0.0547007              0.12945           0.895624\n",
       "    2024-08-12 11:22:48  52.292 sec        446548 obs/sec    67.6825   24            2.39975e+06  0.619512         0.383795             0.257295        0.921342       0.219062           0.047988               0.12118           0.908432\n",
       "    2024-08-12 11:22:54  57.452 sec        475507 obs/sec    141.005   50            4.99948e+06  0.682596         0.465937             0.43503         0.904507       0.365779           0.133795               0.298523          0.744702\n",
       "    2024-08-12 11:22:59  1 min  2.556 sec  500525 obs/sec    219.982   78            7.79969e+06  0.617087         0.380796             0.33092         0.921957       0.255191           0.0651224              0.183988          0.875738\n",
       "    2024-08-12 11:23:04  1 min  7.713 sec  516485 obs/sec    301.769   107           1.06995e+07  0.685503         0.469915             0.379042        0.903692       0.272981           0.0745188              0.203623          0.857808\n",
       "    2024-08-12 11:23:09  1 min 12.791 sec  531847 obs/sec    386.39    137           1.36999e+07  0.554064         0.306987             0.219907        0.937084       0.21929            0.048088               0.114187          0.908242\n",
       "    2024-08-12 11:23:14  1 min 17.933 sec  548010 obs/sec    476.665   169           1.69006e+07  0.564197         0.318318             0.229693        0.934761       0.207138           0.0429062              0.110339          0.918129\n",
       "    2024-08-12 11:23:19  1 min 22.965 sec  557787 obs/sec    564.112   200           2.00012e+07  0.559795         0.313371             0.23661         0.935775       0.235857           0.0556287              0.130293          0.893853\n",
       "    2024-08-12 11:23:24  1 min 28.079 sec  571366 obs/sec    659.998   234           2.34009e+07  1.35497          1.83594              0.482702        0.623729       0.259753           0.0674717              0.140818          0.871255\n",
       "    2024-08-12 11:23:29  1 min 33.196 sec  581952 obs/sec    755.902   268           2.68012e+07  0.556547         0.309745             0.297505        0.936518       0.347709           0.120902               0.282353          0.769303\n",
       "    2024-08-12 11:23:35  1 min 38.352 sec  588011 obs/sec    848.965   301           3.01009e+07  0.591362         0.349709             0.206101        0.928328       0.219446           0.0481566              0.116719          0.908111\n",
       "    2024-08-12 11:23:35  1 min 38.368 sec  587977 obs/sec    848.965   301           3.01009e+07  0.564197         0.318318             0.229693        0.934761       0.207138           0.0429062              0.110339          0.918129\n",
       "\n",
       "Variable Importances: \n",
       "variable    relative_importance    scaled_importance    percentage\n",
       "----------  ---------------------  -------------------  ------------\n",
       "Flow        1                      1                    0.456489\n",
       "Gage        0.739164               0.739164             0.33742\n",
       "Flow_diff   0.284453               0.284453             0.12985\n",
       "Gage_diff   0.167018               0.167018             0.0762418\n",
       "\n",
       "[tips]\n",
       "Use `model.explain()` to inspect the model.\n",
       "--\n",
       "Use `h2o.display.toggle_user_tips()` to switch on/off this section."
      ]
     },
     "execution_count": 61,
     "metadata": {},
     "output_type": "execute_result"
    }
   ],
   "source": [
    "# Set up the H2O-3 AutoML model, run for 10 minutes with RSME as the stopping metric, use test set as validation set.\n",
    "aml = H2OAutoML(max_runtime_secs = 1200,\n",
    "                seed = 1234, stopping_metric = \"RMSE\", nfolds = 0,\n",
    "                sort_metric = \"RMSE\")\n",
    "\n",
    "aml.train(x = X, \n",
    "          y = y,\n",
    "          training_frame = hf_train,\n",
    "          validation_frame = hf_test, #leaderboard_frame\n",
    "          )"
   ]
  },
  {
   "cell_type": "code",
   "execution_count": 62,
   "id": "2d36441d",
   "metadata": {},
   "outputs": [
    {
     "data": {
      "text/html": [
       "<table class='dataframe'>\n",
       "<thead>\n",
       "<tr><th>model_id                                            </th><th style=\"text-align: right;\">    rmse</th><th style=\"text-align: right;\">      mse</th><th style=\"text-align: right;\">     mae</th><th style=\"text-align: right;\">    rmsle</th><th style=\"text-align: right;\">  mean_residual_deviance</th></tr>\n",
       "</thead>\n",
       "<tbody>\n",
       "<tr><td>DeepLearning_grid_1_AutoML_1_20240812_110712_model_2</td><td style=\"text-align: right;\">0.207138</td><td style=\"text-align: right;\">0.0429062</td><td style=\"text-align: right;\">0.110339</td><td style=\"text-align: right;\">0.0223873</td><td style=\"text-align: right;\">               0.0429062</td></tr>\n",
       "<tr><td>DeepLearning_grid_1_AutoML_1_20240812_110712_model_7</td><td style=\"text-align: right;\">0.211987</td><td style=\"text-align: right;\">0.0449386</td><td style=\"text-align: right;\">0.106774</td><td style=\"text-align: right;\">0.0226303</td><td style=\"text-align: right;\">               0.0449386</td></tr>\n",
       "<tr><td>DeepLearning_1_AutoML_1_20240812_110712             </td><td style=\"text-align: right;\">0.21848 </td><td style=\"text-align: right;\">0.0477337</td><td style=\"text-align: right;\">0.12453 </td><td style=\"text-align: right;\">0.0236859</td><td style=\"text-align: right;\">               0.0477337</td></tr>\n",
       "<tr><td>DeepLearning_grid_1_AutoML_1_20240812_110712_model_1</td><td style=\"text-align: right;\">0.225152</td><td style=\"text-align: right;\">0.0506934</td><td style=\"text-align: right;\">0.128431</td><td style=\"text-align: right;\">0.0243401</td><td style=\"text-align: right;\">               0.0506934</td></tr>\n",
       "<tr><td>DeepLearning_grid_1_AutoML_1_20240812_110712_model_6</td><td style=\"text-align: right;\">0.227194</td><td style=\"text-align: right;\">0.0516171</td><td style=\"text-align: right;\">0.112296</td><td style=\"text-align: right;\">0.0247324</td><td style=\"text-align: right;\">               0.0516171</td></tr>\n",
       "<tr><td>GBM_grid_1_AutoML_1_20240812_110712_model_240       </td><td style=\"text-align: right;\">0.227346</td><td style=\"text-align: right;\">0.051686 </td><td style=\"text-align: right;\">0.106912</td><td style=\"text-align: right;\">0.0236034</td><td style=\"text-align: right;\">               0.051686 </td></tr>\n",
       "<tr><td>GBM_grid_1_AutoML_1_20240812_110712_model_296       </td><td style=\"text-align: right;\">0.228679</td><td style=\"text-align: right;\">0.0522941</td><td style=\"text-align: right;\">0.110256</td><td style=\"text-align: right;\">0.0236365</td><td style=\"text-align: right;\">               0.0522941</td></tr>\n",
       "<tr><td>GBM_grid_1_AutoML_1_20240812_110712_model_354       </td><td style=\"text-align: right;\">0.228976</td><td style=\"text-align: right;\">0.0524299</td><td style=\"text-align: right;\">0.104332</td><td style=\"text-align: right;\">0.0236306</td><td style=\"text-align: right;\">               0.0524299</td></tr>\n",
       "<tr><td>GBM_grid_1_AutoML_1_20240812_110712_model_137       </td><td style=\"text-align: right;\">0.22898 </td><td style=\"text-align: right;\">0.0524318</td><td style=\"text-align: right;\">0.104696</td><td style=\"text-align: right;\">0.0236388</td><td style=\"text-align: right;\">               0.0524318</td></tr>\n",
       "<tr><td>GBM_grid_1_AutoML_1_20240812_110712_model_138       </td><td style=\"text-align: right;\">0.229537</td><td style=\"text-align: right;\">0.0526871</td><td style=\"text-align: right;\">0.103442</td><td style=\"text-align: right;\">0.0235957</td><td style=\"text-align: right;\">               0.0526871</td></tr>\n",
       "</tbody>\n",
       "</table><pre style='font-size: smaller; margin-bottom: 1em;'>[949 rows x 6 columns]</pre>"
      ],
      "text/plain": [
       "model_id                                                  rmse        mse       mae      rmsle    mean_residual_deviance\n",
       "----------------------------------------------------  --------  ---------  --------  ---------  ------------------------\n",
       "DeepLearning_grid_1_AutoML_1_20240812_110712_model_2  0.207138  0.0429062  0.110339  0.0223873                 0.0429062\n",
       "DeepLearning_grid_1_AutoML_1_20240812_110712_model_7  0.211987  0.0449386  0.106774  0.0226303                 0.0449386\n",
       "DeepLearning_1_AutoML_1_20240812_110712               0.21848   0.0477337  0.12453   0.0236859                 0.0477337\n",
       "DeepLearning_grid_1_AutoML_1_20240812_110712_model_1  0.225152  0.0506934  0.128431  0.0243401                 0.0506934\n",
       "DeepLearning_grid_1_AutoML_1_20240812_110712_model_6  0.227194  0.0516171  0.112296  0.0247324                 0.0516171\n",
       "GBM_grid_1_AutoML_1_20240812_110712_model_240         0.227346  0.051686   0.106912  0.0236034                 0.051686\n",
       "GBM_grid_1_AutoML_1_20240812_110712_model_296         0.228679  0.0522941  0.110256  0.0236365                 0.0522941\n",
       "GBM_grid_1_AutoML_1_20240812_110712_model_354         0.228976  0.0524299  0.104332  0.0236306                 0.0524299\n",
       "GBM_grid_1_AutoML_1_20240812_110712_model_137         0.22898   0.0524318  0.104696  0.0236388                 0.0524318\n",
       "GBM_grid_1_AutoML_1_20240812_110712_model_138         0.229537  0.0526871  0.103442  0.0235957                 0.0526871\n",
       "[949 rows x 6 columns]\n"
      ]
     },
     "execution_count": 62,
     "metadata": {},
     "output_type": "execute_result"
    }
   ],
   "source": [
    "# Check leaderboard\n",
    "lb = aml.leaderboard\n",
    "\n",
    "lb"
   ]
  },
  {
   "cell_type": "code",
   "execution_count": 63,
   "id": "b8390654",
   "metadata": {},
   "outputs": [],
   "source": [
    "# Select top model on LB as the winner\n",
    "leader_model = aml.leader"
   ]
  },
  {
   "cell_type": "code",
   "execution_count": 64,
   "id": "a29079fd",
   "metadata": {},
   "outputs": [
    {
     "name": "stdout",
     "output_type": "stream",
     "text": [
      "deeplearning prediction progress: |██████████████████████████████████████████████| (done) 100%\n"
     ]
    },
    {
     "data": {
      "text/html": [
       "<table class='dataframe'>\n",
       "<thead>\n",
       "<tr><th style=\"text-align: right;\">  predict</th></tr>\n",
       "</thead>\n",
       "<tbody>\n",
       "<tr><td style=\"text-align: right;\">  8.02742</td></tr>\n",
       "<tr><td style=\"text-align: right;\">  8.02038</td></tr>\n",
       "<tr><td style=\"text-align: right;\">  8.00273</td></tr>\n",
       "<tr><td style=\"text-align: right;\">  8.00273</td></tr>\n",
       "<tr><td style=\"text-align: right;\">  8.01109</td></tr>\n",
       "</tbody>\n",
       "</table><pre style='font-size: smaller; margin-bottom: 1em;'>[5 rows x 1 column]</pre>"
      ],
      "text/plain": [
       "  predict\n",
       "---------\n",
       "  8.02742\n",
       "  8.02038\n",
       "  8.00273\n",
       "  8.00273\n",
       "  8.01109\n",
       "[5 rows x 1 column]\n"
      ]
     },
     "execution_count": 64,
     "metadata": {},
     "output_type": "execute_result"
    }
   ],
   "source": [
    "hf_test_predict = leader_model.predict(hf_test)\n",
    "hf_test_predict.head(5)"
   ]
  },
  {
   "cell_type": "code",
   "execution_count": 65,
   "id": "6e606d80",
   "metadata": {},
   "outputs": [],
   "source": [
    "#contributions = leader_model.predict_contributions(hf_test)\n",
    "#contributions"
   ]
  },
  {
   "cell_type": "code",
   "execution_count": 66,
   "id": "88fe016f",
   "metadata": {},
   "outputs": [],
   "source": [
    "#staged_predict_proba = leader_model.staged_predict_proba(hf_test)"
   ]
  },
  {
   "cell_type": "code",
   "execution_count": 67,
   "id": "d2228a67",
   "metadata": {},
   "outputs": [],
   "source": [
    "#staged_predict_proba"
   ]
  },
  {
   "cell_type": "code",
   "execution_count": 68,
   "id": "64c2ba5f",
   "metadata": {},
   "outputs": [
    {
     "name": "stderr",
     "output_type": "stream",
     "text": [
      "/Users/tott/opt/anaconda3/envs/venv-usgs/lib/python3.10/site-packages/h2o/frame.py:1981: H2ODependencyWarning: Converting H2O frame to pandas dataframe using single-thread.  For faster conversion using multi-thread, install polars and pyarrow and use it as pandas_df = h2o_df.as_data_frame(use_multi_thread=True)\n",
      "\n",
      "  warnings.warn(\"Converting H2O frame to pandas dataframe using single-thread.  For faster conversion using\"\n"
     ]
    },
    {
     "data": {
      "text/html": [
       "<div>\n",
       "<style scoped>\n",
       "    .dataframe tbody tr th:only-of-type {\n",
       "        vertical-align: middle;\n",
       "    }\n",
       "\n",
       "    .dataframe tbody tr th {\n",
       "        vertical-align: top;\n",
       "    }\n",
       "\n",
       "    .dataframe thead th {\n",
       "        text-align: right;\n",
       "    }\n",
       "</style>\n",
       "<table border=\"1\" class=\"dataframe\">\n",
       "  <thead>\n",
       "    <tr style=\"text-align: right;\">\n",
       "      <th></th>\n",
       "      <th>ground_truth</th>\n",
       "      <th>predictions</th>\n",
       "    </tr>\n",
       "  </thead>\n",
       "  <tbody>\n",
       "    <tr>\n",
       "      <th>8859</th>\n",
       "      <td>8.56</td>\n",
       "      <td>8.310118</td>\n",
       "    </tr>\n",
       "    <tr>\n",
       "      <th>8860</th>\n",
       "      <td>8.55</td>\n",
       "      <td>8.309522</td>\n",
       "    </tr>\n",
       "    <tr>\n",
       "      <th>8861</th>\n",
       "      <td>8.53</td>\n",
       "      <td>8.293191</td>\n",
       "    </tr>\n",
       "    <tr>\n",
       "      <th>8862</th>\n",
       "      <td>8.51</td>\n",
       "      <td>8.268502</td>\n",
       "    </tr>\n",
       "    <tr>\n",
       "      <th>8863</th>\n",
       "      <td>8.50</td>\n",
       "      <td>8.267906</td>\n",
       "    </tr>\n",
       "  </tbody>\n",
       "</table>\n",
       "</div>"
      ],
      "text/plain": [
       "      ground_truth  predictions\n",
       "8859          8.56     8.310118\n",
       "8860          8.55     8.309522\n",
       "8861          8.53     8.293191\n",
       "8862          8.51     8.268502\n",
       "8863          8.50     8.267906"
      ]
     },
     "execution_count": 68,
     "metadata": {},
     "output_type": "execute_result"
    }
   ],
   "source": [
    "df_results = pd.DataFrame()\n",
    "df_results['ground_truth'] = df_test['Gage'].reset_index(drop=True)\n",
    "df_results['predictions'] = h2o.as_list(hf_test_predict,use_pandas=True)\n",
    "df_results.tail()"
   ]
  },
  {
   "cell_type": "code",
   "execution_count": 69,
   "id": "ffa6522d",
   "metadata": {},
   "outputs": [
    {
     "data": {
      "image/png": "[encoded data removed]",
      "text/plain": [
       "<Figure size 640x480 with 1 Axes>"
      ]
     },
     "metadata": {},
     "output_type": "display_data"
    }
   ],
   "source": [
    "plt.scatter(x=df_results['predictions'],y=df_results['ground_truth'],s=1)\n",
    "plt.xlabel('predictions',fontsize=18)\n",
    "plt.ylabel('ground_truth',fontsize=18)\n",
    "plt.show()"
   ]
  },
  {
   "cell_type": "code",
   "execution_count": 70,
   "id": "307b3263",
   "metadata": {},
   "outputs": [
    {
     "data": {
      "image/png": "[encoded data removed]",
      "text/plain": [
       "<Figure size 640x480 with 1 Axes>"
      ]
     },
     "metadata": {},
     "output_type": "display_data"
    }
   ],
   "source": [
    "plt.plot(figsize=(20, 5))\n",
    "plt.plot(df_results['ground_truth'])\n",
    "plt.plot(df_results['predictions'])\n",
    "plt.ylabel('Gage Height',fontsize=18)\n",
    "plt.legend(['ground_truth','prediction'])\n",
    "plt.show()"
   ]
  },
  {
   "cell_type": "code",
   "execution_count": 71,
   "id": "286a7755",
   "metadata": {},
   "outputs": [
    {
     "name": "stdout",
     "output_type": "stream",
     "text": [
      "/Users/tott/Documents/GitHub/sales-engineering/tott/usgs-site-01473730/model/24_time_units/DeepLearning_grid_1_AutoML_1_20240812_110712_model_2\n"
     ]
    }
   ],
   "source": [
    "model_path = h2o.save_model(model=aml.leader, path=\"model/\"+str(forecast_horizon)+\"_time_units/\", force=True)\n",
    "print (model_path)"
   ]
  },
  {
   "cell_type": "code",
   "execution_count": 72,
   "id": "51bb342e",
   "metadata": {},
   "outputs": [
    {
     "data": {
      "text/plain": [
       "'/Users/tott/Documents/GitHub/sales-engineering/tott/usgs-site-01473730/model/24_time_units/DeepLearning_grid_1_AutoML_1_20240812_110712_model_2.zip'"
      ]
     },
     "execution_count": 72,
     "metadata": {},
     "output_type": "execute_result"
    }
   ],
   "source": [
    "load_model = h2o.load_model(model_path)\n",
    "load_model.download_mojo(path=\"model/\"+str(forecast_horizon)+\"_time_units/\")"
   ]
  },
  {
   "cell_type": "code",
   "execution_count": 73,
   "id": "ee75f6ee",
   "metadata": {},
   "outputs": [],
   "source": [
    "#leader_model.explain(hf_test)"
   ]
  },
  {
   "cell_type": "code",
   "execution_count": 74,
   "id": "dd16f35b",
   "metadata": {},
   "outputs": [
    {
     "data": {
      "text/plain": [
       "0       8.027422\n",
       "1       8.020385\n",
       "2       8.002734\n",
       "3       8.002734\n",
       "4       8.011091\n",
       "          ...   \n",
       "8811    9.088416\n",
       "8812    9.089146\n",
       "8813    9.056588\n",
       "8814    9.020228\n",
       "8815    9.016072\n",
       "Name: predictions, Length: 8816, dtype: float64"
      ]
     },
     "execution_count": 74,
     "metadata": {},
     "output_type": "execute_result"
    }
   ],
   "source": [
    "df_results['predictions'][:-48]"
   ]
  },
  {
   "cell_type": "code",
   "execution_count": 75,
   "id": "c8a53506",
   "metadata": {},
   "outputs": [
    {
     "name": "stdout",
     "output_type": "stream",
     "text": [
      "0.5641971236426438\n"
     ]
    }
   ],
   "source": [
    "print(aml.leader.rmse())"
   ]
  },
  {
   "cell_type": "code",
   "execution_count": 76,
   "id": "40d3d596",
   "metadata": {},
   "outputs": [
    {
     "name": "stdout",
     "output_type": "stream",
     "text": [
      "H2O session _sid_b9ee closed.\n"
     ]
    }
   ],
   "source": [
    "h2o.cluster().shutdown()"
   ]
  },
  {
   "cell_type": "code",
   "execution_count": null,
   "id": "0b0d6edf",
   "metadata": {},
   "outputs": [],
   "source": []
  },
  {
   "cell_type": "code",
   "execution_count": null,
   "id": "16eab8bc",
   "metadata": {},
   "outputs": [],
   "source": []
  }
 ],
 "metadata": {
  "kernelspec": {
   "display_name": "Python 3 (ipykernel)",
   "language": "python",
   "name": "python3"
  },
  "language_info": {
   "codemirror_mode": {
    "name": "ipython",
    "version": 3
   },
   "file_extension": ".py",
   "mimetype": "text/x-python",
   "name": "python",
   "nbconvert_exporter": "python",
   "pygments_lexer": "ipython3",
   "version": "3.10.11"
  }
 },
 "nbformat": 4,
 "nbformat_minor": 5
}
