{
 "cells": [
  {
   "cell_type": "code",
   "execution_count": 1,
   "id": "b1918fb8",
   "metadata": {},
   "outputs": [],
   "source": [
    "import pandas as pd\n",
    "from datetime import datetime\n",
    "import matplotlib.pyplot as plt\n",
    "import h2o\n",
    "from h2o.automl import H2OAutoML\n",
    "import json\n",
    "import requests\n",
    "\n",
    "%matplotlib inline"
   ]
  },
  {
   "cell_type": "code",
   "execution_count": 2,
   "id": "39c1a1cf-a5ad-4e51-b609-f83f55a51406",
   "metadata": {},
   "outputs": [],
   "source": [
    "#01388500 - Pompton River at Route 23, Pompton Plains NJ"
   ]
  },
  {
   "cell_type": "code",
   "execution_count": 3,
   "id": "6be2813b",
   "metadata": {},
   "outputs": [
    {
     "name": "stdout",
     "output_type": "stream",
     "text": [
      "Site name: Pompton River at Pompton Plains NJ\n",
      "Current Datetime: 2024-08-14T14:45:00.000-04:00\n",
      "Last Datetime: 2024-08-14T14:15:00.000-04:00\n",
      "Station ID: 01388500\n",
      "Agency code: USGS\n",
      "Current Streamflow (ft3/s): 411\n",
      "Last Streamflow (ft3/s): 406\n",
      "Current Gage height (ft): 8.81\n",
      "Last Gage height (ft): 8.80\n"
     ]
    }
   ],
   "source": [
    "# Get the USGS water data as JSON\n",
    "usgs_water_api = \"http://waterservices.usgs.gov/nwis/iv?sites=01388500&period=P7D&format=json\"\n",
    "api_response = requests.get(usgs_water_api)\n",
    "water_data = api_response.json()\n",
    "\n",
    "# Extract interesting data from the JSON\n",
    "site_name = water_data[\"value\"][\"timeSeries\"][0][\"sourceInfo\"][\"siteName\"]\n",
    "station_id = water_data[\"value\"][\"timeSeries\"][0][\"sourceInfo\"][\"siteCode\"][0][\"value\"]\n",
    "agency_code = water_data[\"value\"][\"timeSeries\"][0][\"sourceInfo\"][\"siteCode\"][0][\"agencyCode\"]\n",
    "\n",
    "date_time_last = water_data[\"value\"][\"timeSeries\"][1][\"values\"][0][\"value\"][-3][\"dateTime\"]\n",
    "date_time_mid = water_data[\"value\"][\"timeSeries\"][1][\"values\"][0][\"value\"][-2][\"dateTime\"]\n",
    "date_time_current = water_data[\"value\"][\"timeSeries\"][1][\"values\"][0][\"value\"][-1][\"dateTime\"]\n",
    "\n",
    "streamflow_last = water_data[\"value\"][\"timeSeries\"][0][\"values\"][0][\"value\"][-3][\"value\"]\n",
    "streamflow_mid = water_data[\"value\"][\"timeSeries\"][0][\"values\"][0][\"value\"][-2][\"value\"]\n",
    "streamflow_current = water_data[\"value\"][\"timeSeries\"][0][\"values\"][0][\"value\"][-1][\"value\"]\n",
    "\n",
    "gage_height_last = water_data[\"value\"][\"timeSeries\"][1][\"values\"][0][\"value\"][-3][\"value\"]\n",
    "gage_height_mid = water_data[\"value\"][\"timeSeries\"][1][\"values\"][0][\"value\"][-2][\"value\"]\n",
    "gage_height_current = water_data[\"value\"][\"timeSeries\"][1][\"values\"][0][\"value\"][-1][\"value\"]\n",
    "\n",
    "\n",
    "# Print the data\n",
    "print(f\"Site name: {site_name}\")\n",
    "\n",
    "print(f\"Current Datetime: {date_time_current}\")\n",
    "print(f\"Last Datetime: {date_time_last}\")\n",
    "\n",
    "print(f\"Station ID: {station_id}\")\n",
    "print(f\"Agency code: {agency_code}\")\n",
    "\n",
    "print(f\"Current Streamflow (ft3/s): {streamflow_last}\")\n",
    "print(f\"Last Streamflow (ft3/s): {streamflow_current}\")\n",
    "\n",
    "print(f\"Current Gage height (ft): {gage_height_last}\")\n",
    "print(f\"Last Gage height (ft): {gage_height_current}\")\n"
   ]
  },
  {
   "cell_type": "code",
   "execution_count": 4,
   "id": "76b89e2d",
   "metadata": {},
   "outputs": [],
   "source": [
    "realtime_score = [{'datetime': date_time_last, 'Gage': gage_height_last, 'Flow': streamflow_last},\n",
    "                  {'datetime': date_time_mid, 'Gage': gage_height_mid, 'Flow': streamflow_mid },\n",
    "                   {'datetime': date_time_current, 'Gage': gage_height_current, 'Flow': streamflow_current }]"
   ]
  },
  {
   "cell_type": "code",
   "execution_count": 5,
   "id": "33f46cc0",
   "metadata": {},
   "outputs": [],
   "source": [
    "df = pd.DataFrame(realtime_score)\n",
    "df = df.set_index('datetime')"
   ]
  },
  {
   "cell_type": "code",
   "execution_count": 6,
   "id": "52694337",
   "metadata": {},
   "outputs": [],
   "source": [
    "df['Gage'] = df['Gage'].astype(float)\n",
    "df['Flow'] = df['Flow'].astype(float)"
   ]
  },
  {
   "cell_type": "code",
   "execution_count": 7,
   "id": "0634a04d",
   "metadata": {},
   "outputs": [],
   "source": [
    "df['Gage_diff'] = df['Gage'].shift(1) - df['Gage']\n",
    "df['Flow_diff'] = df['Flow'].shift(1) - df['Flow']"
   ]
  },
  {
   "cell_type": "code",
   "execution_count": 8,
   "id": "7f29144c",
   "metadata": {},
   "outputs": [
    {
     "data": {
      "text/plain": [
       "Gage         float64\n",
       "Flow         float64\n",
       "Gage_diff    float64\n",
       "Flow_diff    float64\n",
       "dtype: object"
      ]
     },
     "execution_count": 8,
     "metadata": {},
     "output_type": "execute_result"
    }
   ],
   "source": [
    "df.dtypes"
   ]
  },
  {
   "cell_type": "code",
   "execution_count": 9,
   "id": "62ad22ed",
   "metadata": {},
   "outputs": [
    {
     "name": "stdout",
     "output_type": "stream",
     "text": [
      "number of rows =  3\n"
     ]
    }
   ],
   "source": [
    "print('number of rows = ', df.shape[0])"
   ]
  },
  {
   "cell_type": "code",
   "execution_count": 10,
   "id": "b79d6994",
   "metadata": {},
   "outputs": [],
   "source": [
    "df = df.fillna(0)"
   ]
  },
  {
   "cell_type": "code",
   "execution_count": 11,
   "id": "277d3791",
   "metadata": {},
   "outputs": [
    {
     "data": {
      "text/html": [
       "<div>\n",
       "<style scoped>\n",
       "    .dataframe tbody tr th:only-of-type {\n",
       "        vertical-align: middle;\n",
       "    }\n",
       "\n",
       "    .dataframe tbody tr th {\n",
       "        vertical-align: top;\n",
       "    }\n",
       "\n",
       "    .dataframe thead th {\n",
       "        text-align: right;\n",
       "    }\n",
       "</style>\n",
       "<table border=\"1\" class=\"dataframe\">\n",
       "  <thead>\n",
       "    <tr style=\"text-align: right;\">\n",
       "      <th></th>\n",
       "      <th>Gage</th>\n",
       "      <th>Flow</th>\n",
       "      <th>Gage_diff</th>\n",
       "      <th>Flow_diff</th>\n",
       "    </tr>\n",
       "    <tr>\n",
       "      <th>datetime</th>\n",
       "      <th></th>\n",
       "      <th></th>\n",
       "      <th></th>\n",
       "      <th></th>\n",
       "    </tr>\n",
       "  </thead>\n",
       "  <tbody>\n",
       "    <tr>\n",
       "      <th>2024-08-14T14:15:00.000-04:00</th>\n",
       "      <td>8.81</td>\n",
       "      <td>411.0</td>\n",
       "      <td>0.00</td>\n",
       "      <td>0.0</td>\n",
       "    </tr>\n",
       "    <tr>\n",
       "      <th>2024-08-14T14:30:00.000-04:00</th>\n",
       "      <td>8.80</td>\n",
       "      <td>406.0</td>\n",
       "      <td>0.01</td>\n",
       "      <td>5.0</td>\n",
       "    </tr>\n",
       "    <tr>\n",
       "      <th>2024-08-14T14:45:00.000-04:00</th>\n",
       "      <td>8.80</td>\n",
       "      <td>406.0</td>\n",
       "      <td>0.00</td>\n",
       "      <td>0.0</td>\n",
       "    </tr>\n",
       "  </tbody>\n",
       "</table>\n",
       "</div>"
      ],
      "text/plain": [
       "                               Gage   Flow  Gage_diff  Flow_diff\n",
       "datetime                                                        \n",
       "2024-08-14T14:15:00.000-04:00  8.81  411.0       0.00        0.0\n",
       "2024-08-14T14:30:00.000-04:00  8.80  406.0       0.01        5.0\n",
       "2024-08-14T14:45:00.000-04:00  8.80  406.0       0.00        0.0"
      ]
     },
     "execution_count": 11,
     "metadata": {},
     "output_type": "execute_result"
    }
   ],
   "source": [
    "df"
   ]
  },
  {
   "cell_type": "code",
   "execution_count": 12,
   "id": "f34ee48f-ea56-4ab8-a323-d00afc596f7d",
   "metadata": {},
   "outputs": [],
   "source": [
    "df = df[-1:]"
   ]
  },
  {
   "cell_type": "code",
   "execution_count": 13,
   "id": "f8fac9fe-a1fc-479c-88c1-fa62b8623f6e",
   "metadata": {},
   "outputs": [
    {
     "name": "stdout",
     "output_type": "stream",
     "text": [
      "Will score this row,                                 Gage   Flow  Gage_diff  Flow_diff\n",
      "datetime                                                        \n",
      "2024-08-14T14:45:00.000-04:00   8.8  406.0        0.0        0.0\n"
     ]
    }
   ],
   "source": [
    "print (\"Will score this row, \", df)"
   ]
  },
  {
   "cell_type": "code",
   "execution_count": 14,
   "id": "7d21569c",
   "metadata": {},
   "outputs": [
    {
     "name": "stdout",
     "output_type": "stream",
     "text": [
      "Checking whether there is an H2O instance running at http://localhost:54321..... not found.\n",
      "Attempting to start a local H2O server...\n",
      "  Java Version: java version \"1.8.0_411\"; Java(TM) SE Runtime Environment (build 1.8.0_411-b09); Java HotSpot(TM) 64-Bit Server VM (build 25.411-b09, mixed mode)\n",
      "  Starting server from /Users/tott/opt/anaconda3/envs/py310/lib/python3.10/site-packages/h2o/backend/bin/h2o.jar\n",
      "  Ice root: /var/folders/39/8gc7tmt964lf1zccbqy781gm0000gp/T/tmpo8nw8fw4\n",
      "  JVM stdout: /var/folders/39/8gc7tmt964lf1zccbqy781gm0000gp/T/tmpo8nw8fw4/h2o_tott_started_from_python.out\n",
      "  JVM stderr: /var/folders/39/8gc7tmt964lf1zccbqy781gm0000gp/T/tmpo8nw8fw4/h2o_tott_started_from_python.err\n",
      "  Server is running at http://127.0.0.1:54321\n",
      "Connecting to H2O server at http://127.0.0.1:54321 ... successful.\n",
      "Warning: Your H2O cluster version is (7 months and 24 days) old.  There may be a newer version available.\n",
      "Please download and install the latest version from: https://h2o-release.s3.amazonaws.com/h2o/latest_stable.html\n"
     ]
    },
    {
     "data": {
      "text/html": [
       "\n",
       "<style>\n",
       "\n",
       "#h2o-table-1.h2o-container {\n",
       "  overflow-x: auto;\n",
       "}\n",
       "#h2o-table-1 .h2o-table {\n",
       "  /* width: 100%; */\n",
       "  margin-top: 1em;\n",
       "  margin-bottom: 1em;\n",
       "}\n",
       "#h2o-table-1 .h2o-table caption {\n",
       "  white-space: nowrap;\n",
       "  caption-side: top;\n",
       "  text-align: left;\n",
       "  /* margin-left: 1em; */\n",
       "  margin: 0;\n",
       "  font-size: larger;\n",
       "}\n",
       "#h2o-table-1 .h2o-table thead {\n",
       "  white-space: nowrap; \n",
       "  position: sticky;\n",
       "  top: 0;\n",
       "  box-shadow: 0 -1px inset;\n",
       "}\n",
       "#h2o-table-1 .h2o-table tbody {\n",
       "  overflow: auto;\n",
       "}\n",
       "#h2o-table-1 .h2o-table th,\n",
       "#h2o-table-1 .h2o-table td {\n",
       "  text-align: right;\n",
       "  /* border: 1px solid; */\n",
       "}\n",
       "#h2o-table-1 .h2o-table tr:nth-child(even) {\n",
       "  /* background: #F5F5F5 */\n",
       "}\n",
       "\n",
       "</style>      \n",
       "<div id=\"h2o-table-1\" class=\"h2o-container\">\n",
       "  <table class=\"h2o-table\">\n",
       "    <caption></caption>\n",
       "    <thead></thead>\n",
       "    <tbody><tr><td>H2O_cluster_uptime:</td>\n",
       "<td>04 secs</td></tr>\n",
       "<tr><td>H2O_cluster_timezone:</td>\n",
       "<td>America/Los_Angeles</td></tr>\n",
       "<tr><td>H2O_data_parsing_timezone:</td>\n",
       "<td>UTC</td></tr>\n",
       "<tr><td>H2O_cluster_version:</td>\n",
       "<td>3.44.0.3</td></tr>\n",
       "<tr><td>H2O_cluster_version_age:</td>\n",
       "<td>7 months and 24 days</td></tr>\n",
       "<tr><td>H2O_cluster_name:</td>\n",
       "<td>H2O_from_python_tott_danq6z</td></tr>\n",
       "<tr><td>H2O_cluster_total_nodes:</td>\n",
       "<td>1</td></tr>\n",
       "<tr><td>H2O_cluster_free_memory:</td>\n",
       "<td>3.542 Gb</td></tr>\n",
       "<tr><td>H2O_cluster_total_cores:</td>\n",
       "<td>10</td></tr>\n",
       "<tr><td>H2O_cluster_allowed_cores:</td>\n",
       "<td>10</td></tr>\n",
       "<tr><td>H2O_cluster_status:</td>\n",
       "<td>locked, healthy</td></tr>\n",
       "<tr><td>H2O_connection_url:</td>\n",
       "<td>http://127.0.0.1:54321</td></tr>\n",
       "<tr><td>H2O_connection_proxy:</td>\n",
       "<td>{\"http\": null, \"https\": null}</td></tr>\n",
       "<tr><td>H2O_internal_security:</td>\n",
       "<td>False</td></tr>\n",
       "<tr><td>Python_version:</td>\n",
       "<td>3.10.11 final</td></tr></tbody>\n",
       "  </table>\n",
       "</div>\n"
      ],
      "text/plain": [
       "--------------------------  -----------------------------\n",
       "H2O_cluster_uptime:         04 secs\n",
       "H2O_cluster_timezone:       America/Los_Angeles\n",
       "H2O_data_parsing_timezone:  UTC\n",
       "H2O_cluster_version:        3.44.0.3\n",
       "H2O_cluster_version_age:    7 months and 24 days\n",
       "H2O_cluster_name:           H2O_from_python_tott_danq6z\n",
       "H2O_cluster_total_nodes:    1\n",
       "H2O_cluster_free_memory:    3.542 Gb\n",
       "H2O_cluster_total_cores:    10\n",
       "H2O_cluster_allowed_cores:  10\n",
       "H2O_cluster_status:         locked, healthy\n",
       "H2O_connection_url:         http://127.0.0.1:54321\n",
       "H2O_connection_proxy:       {\"http\": null, \"https\": null}\n",
       "H2O_internal_security:      False\n",
       "Python_version:             3.10.11 final\n",
       "--------------------------  -----------------------------"
      ]
     },
     "metadata": {},
     "output_type": "display_data"
    }
   ],
   "source": [
    "h2o.init(nthreads=-1)"
   ]
  },
  {
   "cell_type": "code",
   "execution_count": 15,
   "id": "8cbbd94d",
   "metadata": {},
   "outputs": [
    {
     "name": "stdout",
     "output_type": "stream",
     "text": [
      "Parse progress: |████████████████████████████████████████████████████████████████| (done) 100%\n"
     ]
    }
   ],
   "source": [
    "score = h2o.H2OFrame(df)"
   ]
  },
  {
   "cell_type": "code",
   "execution_count": 16,
   "id": "8006926f",
   "metadata": {},
   "outputs": [],
   "source": [
    "#score['Gage'] = score['Gage'].isnumeric()\n",
    "#score['Flow'] = score['Flow'].isnumeric()\n",
    "score['Gage_diff'] = score['Gage_diff'].ascharacter().asnumeric()\n",
    "score['Flow_diff'] = score['Flow_diff'].ascharacter().asnumeric()"
   ]
  },
  {
   "cell_type": "code",
   "execution_count": 17,
   "id": "0cd79303",
   "metadata": {},
   "outputs": [
    {
     "data": {
      "text/html": [
       "<pre style='margin: 1em 0 1em 0;'>Rows:1\n",
       "Cols:4\n",
       "</pre>"
      ],
      "text/plain": [
       "Rows:1\n",
       "Cols:4\n"
      ]
     },
     "metadata": {},
     "output_type": "display_data"
    },
    {
     "data": {
      "text/html": [
       "<table class='dataframe'>\n",
       "<thead>\n",
       "<tr><th>       </th><th>Gage  </th><th>Flow  </th><th>Gage_diff  </th><th>Flow_diff  </th></tr>\n",
       "</thead>\n",
       "<tbody>\n",
       "<tr><td>type   </td><td>real  </td><td>int   </td><td>int        </td><td>int        </td></tr>\n",
       "<tr><td>mins   </td><td>8.8   </td><td>406.0 </td><td>0.0        </td><td>0.0        </td></tr>\n",
       "<tr><td>mean   </td><td>8.8   </td><td>406.0 </td><td>0.0        </td><td>0.0        </td></tr>\n",
       "<tr><td>maxs   </td><td>8.8   </td><td>406.0 </td><td>0.0        </td><td>0.0        </td></tr>\n",
       "<tr><td>sigma  </td><td>0.0   </td><td>0.0   </td><td>0.0        </td><td>0.0        </td></tr>\n",
       "<tr><td>zeros  </td><td>0     </td><td>0     </td><td>1          </td><td>1          </td></tr>\n",
       "<tr><td>missing</td><td>0     </td><td>0     </td><td>0          </td><td>0          </td></tr>\n",
       "<tr><td>0      </td><td>8.8   </td><td>406.0 </td><td>0.0        </td><td>0.0        </td></tr>\n",
       "</tbody>\n",
       "</table><pre style='font-size: smaller; margin-bottom: 1em;'>[1 row x 4 columns]</pre>"
      ],
      "text/plain": [
       "         Gage    Flow    Gage_diff    Flow_diff\n",
       "-------  ------  ------  -----------  -----------\n",
       "type     real    int     int          int\n",
       "mins     8.8     406.0   0.0          0.0\n",
       "mean     8.8     406.0   0.0          0.0\n",
       "maxs     8.8     406.0   0.0          0.0\n",
       "sigma    0.0     0.0     0.0          0.0\n",
       "zeros    0       0       1            1\n",
       "missing  0       0       0            0\n",
       "0        8.8     406.0   0.0          0.0\n",
       "[1 row x 4 columns]\n"
      ]
     },
     "metadata": {},
     "output_type": "display_data"
    }
   ],
   "source": [
    "score.describe()"
   ]
  },
  {
   "cell_type": "code",
   "execution_count": 18,
   "id": "e596a41f",
   "metadata": {},
   "outputs": [
    {
     "name": "stdout",
     "output_type": "stream",
     "text": [
      "['Gage', 'Flow', 'Gage_diff', 'Flow_diff']\n"
     ]
    }
   ],
   "source": [
    "print(score.columns)"
   ]
  },
  {
   "cell_type": "code",
   "execution_count": 19,
   "id": "1b65ee61",
   "metadata": {},
   "outputs": [
    {
     "name": "stdout",
     "output_type": "stream",
     "text": [
      "glm prediction progress: |███████████████████████████████████████████████████████| (done) 100%\n",
      "1 Hour Gage height forecast (ft):   predict\n",
      "  8.80482\n",
      "[1 row x 1 column]\n",
      "\n"
     ]
    }
   ],
   "source": [
    "model_path_12 = 'model/12_time_units/GLM_1_AutoML_1_20240814_114058'\n",
    "saved_model = h2o.load_model(model_path_12)\n",
    "predict = saved_model.predict(score)\n",
    "print(f\"1 Hour Gage height forecast (ft): {predict}\")"
   ]
  },
  {
   "cell_type": "code",
   "execution_count": null,
   "id": "f9c5e3b9",
   "metadata": {},
   "outputs": [],
   "source": []
  },
  {
   "cell_type": "code",
   "execution_count": null,
   "id": "024f865a",
   "metadata": {},
   "outputs": [],
   "source": []
  }
 ],
 "metadata": {
  "kernelspec": {
   "display_name": "Python 3 (ipykernel)",
   "language": "python",
   "name": "python3"
  },
  "language_info": {
   "codemirror_mode": {
    "name": "ipython",
    "version": 3
   },
   "file_extension": ".py",
   "mimetype": "text/x-python",
   "name": "python",
   "nbconvert_exporter": "python",
   "pygments_lexer": "ipython3",
   "version": "3.10.11"
  }
 },
 "nbformat": 4,
 "nbformat_minor": 5
}
